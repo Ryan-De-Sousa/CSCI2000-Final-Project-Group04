{
 "cells": [
  {
   "cell_type": "markdown",
   "metadata": {},
   "source": [
    "Project Group 4\n",
    "\n",
    "Group Members: Ebubechukwu Okeke, Ryan De Sousa, Joy Saikaly\n",
    "Dataset: Students Performance in exams From: https://www.kaggle.com/spscientist/students-performance-in-exams/version/1?select=StudentsPerformance.csv\n",
    "\n",
    "\n",
    "The dataset contains data about various potential factors of a student's grade along with the final grade of each subject \n"
   ]
  },
  {
   "cell_type": "markdown",
   "metadata": {},
   "source": [
    "\n",
    "gender:                         The gender of the student\n",
    "\n",
    "race/ethnicity:                 The ethnicity of the student\n",
    "\n",
    "parental level of education:    The Student's parent's highest education\n",
    "\n",
    "lunch:                          if the student ate a standard or reduced lunch\n",
    "\n",
    "test preparation course:        Weather or not a student did the test preparation course\n",
    "\n",
    "math score:                     The student's final score in math\n",
    "\n",
    "reading score:                  The student's final score in reading\n",
    "\n",
    "writing score:                  The student's final score in Writing\n",
    "\n"
   ]
  },
  {
   "cell_type": "code",
   "execution_count": 170,
   "metadata": {},
   "outputs": [],
   "source": [
    "#importing used libraries\n",
    "import csv\n",
    "import re\n",
    "from functools import reduce\n",
    "import numpy as np\n",
    "import pandas as pd\n",
    "\n",
    "# this aux function reads the CSV file and returns the data in a Python dictionary\n",
    "def get_data_csv():\n",
    "    collection = []\n",
    "    with open('StudentsPerformance.csv', 'r') as f:\n",
    "        for line in csv.DictReader(f):\n",
    "            collection.append(line)\n",
    "        return collection\n",
    "        \n",
    "# the data    \n",
    "data = get_data_csv()"
   ]
  },
  {
   "cell_type": "markdown",
   "metadata": {},
   "source": [
    "Basic analysis of the dataset\n",
    "\n",
    "1. List the first record in the set\n",
    "2. How many students were recorded\n",
    "3. how many different race/ethnicity groups were recorded\n",
    "4. How many student's prepared for the test's, How many student's had a standard lunch\n",
    "5. What is the average test score for each category"
   ]
  },
  {
   "cell_type": "code",
   "execution_count": 171,
   "metadata": {},
   "outputs": [
    {
     "data": {
      "text/html": [
       "<div>\n",
       "<style scoped>\n",
       "    .dataframe tbody tr th:only-of-type {\n",
       "        vertical-align: middle;\n",
       "    }\n",
       "\n",
       "    .dataframe tbody tr th {\n",
       "        vertical-align: top;\n",
       "    }\n",
       "\n",
       "    .dataframe thead th {\n",
       "        text-align: right;\n",
       "    }\n",
       "</style>\n",
       "<table border=\"1\" class=\"dataframe\">\n",
       "  <thead>\n",
       "    <tr style=\"text-align: right;\">\n",
       "      <th></th>\n",
       "      <th>gender</th>\n",
       "      <th>race/ethnicity</th>\n",
       "      <th>parental level of education</th>\n",
       "      <th>lunch</th>\n",
       "      <th>test preparation course</th>\n",
       "      <th>math score</th>\n",
       "      <th>reading score</th>\n",
       "      <th>writing score</th>\n",
       "    </tr>\n",
       "  </thead>\n",
       "  <tbody>\n",
       "    <tr>\n",
       "      <th>0</th>\n",
       "      <td>female</td>\n",
       "      <td>group B</td>\n",
       "      <td>bachelor's degree</td>\n",
       "      <td>standard</td>\n",
       "      <td>none</td>\n",
       "      <td>72</td>\n",
       "      <td>72</td>\n",
       "      <td>74</td>\n",
       "    </tr>\n",
       "  </tbody>\n",
       "</table>\n",
       "</div>"
      ],
      "text/plain": [
       "   gender race/ethnicity parental level of education     lunch  \\\n",
       "0  female        group B           bachelor's degree  standard   \n",
       "\n",
       "  test preparation course math score reading score writing score  \n",
       "0                    none         72            72            74  "
      ]
     },
     "execution_count": 171,
     "metadata": {},
     "output_type": "execute_result"
    }
   ],
   "source": [
    "from csv import reader \n",
    "\n",
    "df = pd.DataFrame(data)\n",
    "\n",
    "df.head(1)\n"
   ]
  },
  {
   "cell_type": "code",
   "execution_count": 172,
   "metadata": {},
   "outputs": [
    {
     "name": "stdout",
     "output_type": "stream",
     "text": [
      "There was 1000 students recorded\n"
     ]
    }
   ],
   "source": [
    "print(\"There was \" + str(df.shape[0]) + \" students recorded\")"
   ]
  },
  {
   "cell_type": "code",
   "execution_count": 173,
   "metadata": {},
   "outputs": [
    {
     "name": "stdout",
     "output_type": "stream",
     "text": [
      "There was 5 Different race/ethnicity groups recorded\n"
     ]
    }
   ],
   "source": [
    "df2 = df[['race/ethnicity']].drop_duplicates()\n",
    "print(\"There was \" + str(df2.shape[0]) + \" Different race/ethnicity groups recorded\")"
   ]
  },
  {
   "cell_type": "code",
   "execution_count": 174,
   "metadata": {},
   "outputs": [
    {
     "name": "stdout",
     "output_type": "stream",
     "text": [
      "358 students completed the test preperation course\n",
      "645 ate a standard lunch\n"
     ]
    }
   ],
   "source": [
    "print(str(df['test preparation course'].value_counts()['completed']) + \" students completed the test preperation course\")\n",
    "print(str(df['lunch'].value_counts()['standard']) + \" ate a standard lunch\")"
   ]
  },
  {
   "cell_type": "code",
   "execution_count": 176,
   "metadata": {},
   "outputs": [
    {
     "name": "stdout",
     "output_type": "stream",
     "text": [
      "66.089 math avg\n",
      "69.169 reading avg\n",
      "68.054 writing avg\n"
     ]
    }
   ],
   "source": [
    "\n",
    "df[['math score','reading score','writing score']] = df[['math score','reading score','writing score']].astype(str).astype(int)\n",
    "print(str(df['math score'].mean()) + \" math avg\")\n",
    "print(str(df['reading score'].mean()) + \" reading avg\")\n",
    "print(str(df['writing score'].mean()) + \" writing avg\")"
   ]
  },
  {
   "cell_type": "markdown",
   "metadata": {},
   "source": [
    "•    What is the correlation between the gender of the students and the reading score that they received?\n",
    "\n",
    "•    How the level of parental education affects the student test preparation?\n",
    "\n",
    "•    How does the difference in ethnicity impact the student’s parental level of education? \n",
    "\n",
    "•    Does gender play a role for the number of students that receive lunch?\n",
    "\n",
    "•    What could schools provide for the students to increase the chances of a student succeeding at the exam?"
   ]
  }
 ],
 "metadata": {
  "interpreter": {
   "hash": "1bc51128e604f990676208b90206ad551b32e8c9e398f06aa9ca4620530fc7e1"
  },
  "kernelspec": {
   "display_name": "Python 3.7.6 64-bit ('base': conda)",
   "name": "python3"
  },
  "language_info": {
   "codemirror_mode": {
    "name": "ipython",
    "version": 3
   },
   "file_extension": ".py",
   "mimetype": "text/x-python",
   "name": "python",
   "nbconvert_exporter": "python",
   "pygments_lexer": "ipython3",
   "version": "3.7.6"
  },
  "orig_nbformat": 4
 },
 "nbformat": 4,
 "nbformat_minor": 2
}
